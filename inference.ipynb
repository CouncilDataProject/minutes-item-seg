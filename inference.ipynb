{
 "cells": [
  {
   "cell_type": "markdown",
   "id": "7475a584-99a1-4ae2-bfca-f152e39a09ca",
   "metadata": {},
   "source": [
    "# Minutes Item Segementation via GPT-3.5-Turbo"
   ]
  },
  {
   "cell_type": "markdown",
   "id": "14b594c8-4821-404c-81bf-841350af0e75",
   "metadata": {},
   "source": [
    "## Dataset Setup"
   ]
  },
  {
   "cell_type": "code",
   "execution_count": 1,
   "id": "b36f2b86-84b4-4000-8c21-94f9a4e27f0f",
   "metadata": {},
   "outputs": [
    {
     "name": "stderr",
     "output_type": "stream",
     "text": [
      "/home/eva/miniforge-pypy3/envs/minutes-item-seg/lib/python3.11/site-packages/tqdm/auto.py:21: TqdmWarning: IProgress not found. Please update jupyter and ipywidgets. See https://ipywidgets.readthedocs.io/en/stable/user_install.html\n",
      "  from .autonotebook import tqdm as notebook_tqdm\n",
      "Fetching each model attached to event_ref: 100%|████████████████████████████████████████████████████████████████████████████████████████████████████████████████| 8/8 [00:00<00:00, 67.33it/s]\n",
      "Fetching transcripts: 100%|█████████████████████████████████████████████████████████████████████████████████████████████████████████████████████████████████████| 8/8 [00:00<00:00, 20.53it/s]\n"
     ]
    }
   ],
   "source": [
    "from cdp_data import CDPInstances, datasets\n",
    "from cdp_data.utils import connect_to_infrastructure\n",
    "import pandas as pd\n",
    "\n",
    "# Connect to infra\n",
    "connect_to_infrastructure(CDPInstances.Seattle)\n",
    "\n",
    "# Get dataset\n",
    "seattle_df = datasets.get_session_dataset(\n",
    "    CDPInstances.Seattle,\n",
    "    start_datetime=\"2023-01-01\",\n",
    "    end_datetime=\"2023-02-15\",\n",
    "    store_transcript=True,\n",
    ")"
   ]
  },
  {
   "cell_type": "markdown",
   "id": "f991adf3-645e-463c-927a-1fd2aa3c2be1",
   "metadata": {},
   "source": [
    "## Prompt Setup"
   ]
  },
  {
   "cell_type": "code",
   "execution_count": 2,
   "id": "cbcfc286-7c37-4f15-87a6-dbef487af1ab",
   "metadata": {},
   "outputs": [],
   "source": [
    "from enum import Enum\n",
    "\n",
    "from cdp_backend.pipeline.transcript_model import Transcript\n",
    "from dotenv import load_dotenv\n",
    "from langchain.chat_models import ChatOpenAI\n",
    "from langchain.callbacks import get_openai_callback \n",
    "from langchain.output_parsers import PydanticOutputParser\n",
    "from langchain import PromptTemplate\n",
    "from pydantic import BaseModel, Field\n",
    "from langchain.schema import HumanMessage\n",
    "\n",
    "###############################################################################\n",
    "\n",
    "load_dotenv()\n",
    "llm = ChatOpenAI(model_name=\"gpt-4\", temperature=0)\n",
    "\n",
    "###############################################################################\n",
    "\n",
    "class SectionLabel(Enum):\n",
    "    roll_call = \"Roll Call\"\n",
    "    public_comment = \"Public Comment\"\n",
    "    discussion_on_bill_or_resolution = \"Discussion on Bill or Resolution\"\n",
    "    voting_on_bill_or_resolution = \"Voting on Bill or Resolution\"\n",
    "    presentation_report_or_general_update = \"Presentation, Report, or General Update\"\n",
    "    meeting_administration = \"Meeting Administration\"\n",
    "\n",
    "ALL_SECTION_LABELS = [item.value for item in SectionLabel]\n",
    "ALL_SECTION_LABELS_STR = \"\\n- \".join(ALL_SECTION_LABELS)\n",
    "ALL_SECTION_LABELS_STR = f\"- {ALL_SECTION_LABELS_STR}\"\n",
    "\n",
    "class MeetingSection(BaseModel):\n",
    "    classification: SectionLabel = Field(description=\"the section classification\")\n",
    "    first_sentence_text: str = Field(\n",
    "        description=\"the exact copied text of the first sentence of the section\",\n",
    "    )\n",
    "    last_sentence_text: str = Field(\n",
    "        description=\"the exact copied text of the last sentence of the section\",\n",
    "    )\n",
    "\n",
    "class MeetingSegmentation(BaseModel):\n",
    "    sections: list[MeetingSection]\n",
    "\n",
    "MEETING_SEG_PARSER = PydanticOutputParser(pydantic_object=MeetingSegmentation)\n",
    "\n",
    "###############################################################################\n",
    "\n",
    "MEETING_SEG_PROMPT = PromptTemplate.from_file(\n",
    "    \"prompts/v0-section-seg.jinja\",\n",
    "    input_variables=[\"transcript\"],\n",
    "    partial_variables={\n",
    "        \"section_labels\": ALL_SECTION_LABELS_STR,\n",
    "        \"format_instructions\": MEETING_SEG_PARSER.get_format_instructions(),\n",
    "    },\n",
    "    template_format=\"jinja2\",\n",
    ")\n",
    "\n",
    "def _process_transcript(df: pd.DataFrame, index: int) -> MeetingSegmentation:\n",
    "    # Get the meeting transcript\n",
    "    session_details = df.loc[index]\n",
    "    \n",
    "    # Load transcript\n",
    "    with open(session_details.transcript_path) as open_f:\n",
    "        transcript = Transcript.from_json(open_f.read())\n",
    "\n",
    "    # Convert to string\n",
    "    transcript_str = \"\\n\\n\".join([s.text for s in transcript.sentences[:100]])\n",
    "    \n",
    "    # Fill the prompt\n",
    "    input_ = MEETING_SEG_PROMPT.format_prompt(transcript=transcript_str)\n",
    "\n",
    "    # Generate and log token usage\n",
    "    with get_openai_callback() as api_usage:\n",
    "        output = llm([HumanMessage(content=input_.to_string())])\n",
    "    \n",
    "        # Parse and print parsed\n",
    "        try:\n",
    "            parsed_output = MEETING_SEG_PARSER.parse(output.content)\n",
    "            for section in parsed_output.sections:\n",
    "                print(f\"SECTION LABEL: {section.classification}\")\n",
    "                print(f\"FIRST SENTENCE: '{section.first_sentence_text}'\")\n",
    "                print(f\"LAST SENTENCE: '{section.last_sentence_text}'\")\n",
    "\n",
    "                start_sentence_index = -1\n",
    "                end_sentence_index = -1\n",
    "                for i, sentence in enumerate(transcript.sentences):\n",
    "                    if start_sentence_index == -1 and sentence.text == section.first_sentence_text:\n",
    "                        start_sentence_index = i\n",
    "                    if start_sentence_index != -1 and sentence.text == section.last_sentence_text:\n",
    "                        end_sentence_index = i + 1\n",
    "                        break\n",
    "\n",
    "                # Only print if both start and end were found\n",
    "                if start_sentence_index != -1 and end_sentence_index != -1:\n",
    "                    section_text = \" \".join([s.text for s in transcript.sentences[start_sentence_index:end_sentence_index]])\n",
    "                    print(f\"SECTION FULL CONTENT: {section_text}\")\n",
    "                else:\n",
    "                    print(\"SECTION FULL CONTENT: Could not find matching content\")\n",
    "                    \n",
    "                print()\n",
    "                print()\n",
    "            print()\n",
    "            print(\"-\" * 80)\n",
    "            print()\n",
    "\n",
    "            return parsed_output\n",
    "    \n",
    "        except Exception as e:\n",
    "            # Print output\n",
    "            print(\"!!!! ERROR OCCURRED !!!!\")\n",
    "            print()\n",
    "            print(output)\n",
    "            print()\n",
    "            print(\"-\" * 80)\n",
    "            print()\n",
    "            raise e\n",
    "    \n",
    "        finally:\n",
    "            # Print api usage\n",
    "            print(api_usage)"
   ]
  },
  {
   "cell_type": "markdown",
   "id": "d728245c-f246-4b37-990c-85f5fdf313de",
   "metadata": {},
   "source": [
    "## Outputs"
   ]
  },
  {
   "cell_type": "code",
   "execution_count": 3,
   "id": "2ecdb693-7153-41e6-b182-3afa470dde2a",
   "metadata": {},
   "outputs": [
    {
     "name": "stdout",
     "output_type": "stream",
     "text": [
      "SECTION LABEL: SectionLabel.roll_call\n",
      "FIRST SENTENCE: 'Turn the meeting into a Councilmember Herbold?'\n",
      "LAST SENTENCE: 'Five present.'\n",
      "SECTION FULL CONTENT: Turn the meeting into a Councilmember Herbold? Here. Councilmember Peterson? Here. Councilmember Lewis? Present. Councilmember Nelson? Present. Mayor Mosqueda? Present. Five present.\n",
      "\n",
      "\n",
      "SECTION LABEL: SectionLabel.meeting_administration\n",
      "FIRST SENTENCE: 'Thank you very much Madam Clerk and again welcome to Melanie Cray who is our in-person clerk for the upcoming meetings here and thanks again to Farideh Cuevas who is our clerk from afar running things electronically and as always Emilia who is helping us coordinate as the official clerk for the city's proceedings.'\n",
      "LAST SENTENCE: 'Hearing no objection today's agenda is adopted and reordered.'\n",
      "SECTION FULL CONTENT: Thank you very much Madam Clerk and again welcome to Melanie Cray who is our in-person clerk for the upcoming meetings here and thanks again to Farideh Cuevas who is our clerk from afar running things electronically and as always Emilia who is helping us coordinate as the official clerk for the city's proceedings. Thank you for helping getting us up and running today as well. Colleagues thanks for joining us. We do have our efforts will continue to be remote as much as possible so I appreciate my colleagues for continuing to dial in remotely and for the folks who want to provide public comment for your thoughtful approach to deciding whether or not to come in. I appreciate those who are dialing in remotely. We have an opportunity to hear from folks both in person and remotely but I do encourage folks to continue to remain vigilant about the public health crisis that's in front of us. As NPR reported just yesterday while we continue to hear people talk about the pandemic being over. Excuse me son what was that? You can hear me okay? We're good okay. As we continue to talk about the public health crisis of the pandemic I want to make sure that we remind ourselves that it's not over it is just evolving. As NPR noted in their coverage this week there are still 500 people across the nation dying every day from COVID and so as we think about the compounding effects of COVID, the flu, other communicable diseases and as Council Member Herbold and I talk about often the public health crisis of the shadow pandemic and the crisis of depression and isolation. We want folks to make sure to take care of their health and that is why we continue to have these hybrid meetings. We will have public comment to hear from folks both in person and remotely today and the two items that we have on our agenda include the 2023 capital improvement projects quarterly monitoring monitoring watch list and the sugary sweetened beverage a community advisory board update where we will hear how they are spending those tax dollars from the sugary sweetened beverage tax and deploying those for public health use. I do have one modification for our colleagues to consider. No additions to the agenda I'd just like to change the order of the agenda to allow for our community advisory board members from the sugary sweetened beverage tax board to be able to present first so we would hear sugary sweetened beverage tax update first and then we would do the 2023 capital improvements watch list. If there's no objection today's agenda will be adopted and reordered. Hearing no objection today's agenda is adopted and reordered.\n",
      "\n",
      "\n",
      "SECTION LABEL: SectionLabel.public_comment\n",
      "FIRST SENTENCE: 'Let's go on to public comment.'\n",
      "LAST SENTENCE: 'With that the public comment period has been opened and seeing no one signed up for public comment the public comment period is now closed.'\n",
      "SECTION FULL CONTENT: Let's go on to public comment. Madam Clerk could you let me know if we have anybody in the room or remotely signed up for public comment? We do not. Okay great and just confirming the electronic there's nobody signed up electronically either? Correct. Okay thank you so much. There are no registered remote public commenters. Thank you both so much. Okay wonderful well if you do have any public comment you're welcome to go ahead and send those to us at council at seattle.gov and the full council will receive those in real time. With that the public comment period has been opened and seeing no one signed up for public comment the public comment period is now closed.\n",
      "\n",
      "\n",
      "SECTION LABEL: SectionLabel.presentation_report_or_general_update\n",
      "FIRST SENTENCE: 'Agenda item 2 sugary beverage tax update for briefing and discussion.'\n",
      "LAST SENTENCE: 'So in addition to the nuts and bolts of the tax I want to take a moment to remind us all of the influential community advocacy that shaped the design and implementation of the SBT.'\n",
      "SECTION FULL CONTENT: Agenda item 2 sugary beverage tax update for briefing and discussion. Thank you so much and I see with us our friends from the community advisory board. I want to welcome to the dais here Jen Jennifer Moss. Hello Jen good to see you co-chair of the sugary sweetened beverage tax advisory board. Tanika Thompson Byrd also co-chair of the sugary sweetened beverage tax advisory board and Bridgette our friend and my neighbor who works here at the city of Seattle from the office of sustainability and the environment. Did I miss anybody who is joining us to present today? No that's it. Okay wonderful well I hear Bridgette and I see Tanika off mute as well and I see Jen so with that I just want to say thank you. It's been a pleasure to work with all of you as we crafted the 2023 and 2024 biannual budget. The community advisory board always sends to our team a list of their priorities early. They send it to the full council and the mayor as well and it was it was a true privilege and honor to be able to work with you in these really tough times to make sure that we could continue the commitments that we have made to the community to ensure that public health and the community's health was paramount in these times and while the sugary sweetened beverage tax revenues were down we were able to supplement some of the increased need and the additional revenue necessary with the higher than anticipated revenue from jumpstarts progressive payroll tax for a short period of time. We were able to do that recognizing the immense need in these moments where folks are still dealing with economic insecurity, housing insecurity and food insecurity but we also at the same time recognize that the sugary sweetened beverage tax was never intended to buoy the total amount of revenue. It was a public health approach to try to get folks to consume less sugary sweetened beverages so looking forward to talking with you about the investments that we're making and of course also talking about how we continue to sustain investments in these core public health programs while we hopefully see fewer people consuming sugary sweetened beverages so that we can improve their health individual health as well as improve the population's health through greater program investment and resources. So with that I'll turn it over to you all Bridget, Tanika and Jen welcome again and would be remiss if I didn't say thank you to Farideh Cuevas from our staff who has been staffing us on all things health and food security for the last five years and for her work on the budget and cab connection as well so thanks so much. I'll turn it over to you. Thank you so much. Good morning council members. Can everyone hear me? We can hear you and you are great to do just audio if you prefer. I just wanted to make sure you knew your video was off as well. Yes my camera is not working unfortunately. We see your lovely logo so that is that is great and and the beautiful slides. Okay thank you councilmember Mosqueda for the invitation to be here today and for being such an amazing champion of community priorities. My name is Tanika Thompson-Byrd. I am a co-chair of the sweetened beverage tax community advisory board or what we call the cab for short. I am a food access organizer with Got Green and I serve in a council-appointed community seat on the cab. We're grateful for your time and consideration today so we can brief you on SBT program investments and raise some important policy issues. Jen and I prepared a slide deck that will take about 25 minutes to go through and then we'll open it up to questions. Jen I'll turn it to you to introduce yourself and get the presentation started. Thanks Tanika and thank you again council members for having us join your committee meeting today. My name is Jen Moss and I am co-chair of the cab with Tanika and I work with WSU extension SNAP-Ed and serve in a mayor-appointed public health seat. So next slide. The last time the cab presented to a council committee was in 2018 and this was the first year of SBT implementation and when the cab developed its first budget recommendations. Since it has been five years we wanted to take this opportunity to present on the following topics. Some quick background on the SBT, role of the cab, highlights from programs supported by SBT revenue and some important policy considerations and recommendations about the SBT fund. We welcome your questions at the end and Bridgette Igoe OSC food policy advisor is here to help us field your questions and all things that she helps us with. A quick note on the topic we won't be addressing today and that is the SBT evaluation which is addressing assessing the health and economic impacts of the tax itself and the five year evaluation is managed by the city auditor in partnership with Public Health Department and UW. We're aware that there are some reports coming soon in the meantime we direct you to the cab webpage which has lots of details and information on past evaluation reports. So first some background on the sweetened beverage tax. The SBT started in 2018 making this the fifth year of implementation. The tax was designed to improve the health of Seattle residents by reducing the sales and consumption of sugary drinks. Sugary drinks are the largest source of sugar in the American diet and a major contributor to poor health outcomes. The tax is levied on distributors of sugary beverages within Seattle city limits. The SBT is not a sales tax and that is by design. Sales taxes are paid by consumers at the register. This tax is paid by the distributors of the sugary drinks. The thinking behind this type of tax is the distributors will pass the cost on cost of the tax on to the consumers in the form of higher shelf prices and that that sticker shock will deter people from buying the product. Also SBT raises revenue from these programs that increase food security, access to healthy food, and supports children's health and early learning. So in addition to the nuts and bolts of the tax I want to take a moment to remind us all of the influential community advocacy that shaped the design and implementation of the SBT.\n",
      "\n",
      "\n",
      "\n",
      "--------------------------------------------------------------------------------\n",
      "\n",
      "Tokens Used: 3741\n",
      "\tPrompt Tokens: 3447\n",
      "\tCompletion Tokens: 294\n",
      "Successful Requests: 1\n",
      "Total Cost (USD): $0.12105\n"
     ]
    }
   ],
   "source": [
    "seg = _process_transcript(seattle_df, 0)"
   ]
  },
  {
   "cell_type": "code",
   "execution_count": 4,
   "id": "a0eaaa4d-6a20-4d21-b20a-11195dc5131c",
   "metadata": {},
   "outputs": [
    {
     "name": "stdout",
     "output_type": "stream",
     "text": [
      "SECTION LABEL: SectionLabel.roll_call\n",
      "FIRST SENTENCE: 'Good morning.'\n",
      "LAST SENTENCE: 'Four present, one absent, one excused.'\n",
      "SECTION FULL CONTENT: Good morning. We're getting a little bit of a late start, but this is the February 10th 2023 regularly scheduled meeting of the Neighborhoods, Education, and Planning Committee, and we're excited to call the roll. Council Member Lewis. Present. Council Member Nelson. Present. Vice Chair Sawant. Chair Morales. Here. Four present, one absent, one excused.\n",
      "\n",
      "\n",
      "SECTION LABEL: SectionLabel.meeting_administration\n",
      "FIRST SENTENCE: 'If there's no objection, today's agenda would be adopted.'\n",
      "LAST SENTENCE: 'Hearing no objection, today's agenda is adopted.'\n",
      "SECTION FULL CONTENT: If there's no objection, today's agenda would be adopted. Hearing no objection, today's agenda is adopted.\n",
      "\n",
      "\n",
      "SECTION LABEL: SectionLabel.presentation_report_or_general_update\n",
      "FIRST SENTENCE: 'So we have several folks on today's committee agenda, and then we'll have a community panel presentation on mobility issues and its impact on the health of our neighborhoods.'\n",
      "LAST SENTENCE: 'So at this time, we will open the general in- person and hybrid public comment.'\n",
      "SECTION FULL CONTENT: So we have several folks on today's committee agenda, and then we'll have a community panel presentation on mobility issues and its impact on the health of our neighborhoods. So at this time, we will open the general in- person and hybrid public comment.\n",
      "\n",
      "\n",
      "SECTION LABEL: SectionLabel.public_comment\n",
      "FIRST SENTENCE: 'Do we have anybody in person?'\n",
      "LAST SENTENCE: 'My name is Ashwin, and I'm calling in to urge the Seattle City Council to vote no on the caste ordinance.'\n",
      "SECTION FULL CONTENT: Do we have anybody in person? Okay. We've got several folks who are signed up... Sorry. Who are signed up virtually for public comment. So I will remind folks that you need to address things that are on today's agenda. So we do... It does remain the strong intent of Council to have public comment during our regularly scheduled meetings, and the Council reserves the right to modify the public comment period at any point if we deem that the system is being abused. I will moderate the public comment period in the following manner. This comment period will be for up to 20 minutes. Each speaker will be given two minutes. Let's say one minute, because it does look like there are several folks signed up. I'll call on two speakers at a time in the order in which you registered on the Council's website. If you've not yet registered to speak but would like to, you can sign up before the end of the comment period by going to the Council's website at seattle.gov slash Council. Once I call your name, please unmute, and you will receive a prompt if you have been unmuted. At that point, press star 6 to begin speaking. You will hear a chime when you have 10 seconds left. Once you hear the chime, please wrap up your comments so we can move to the next speaker. And when you've completed your public comment, we ask that you disconnect, and if you would like to continue following the meeting, that you do so via Seattle Channel. Okay. So the public comment period is now open, and I will call the first person. As I said, we don't have anybody signed up in advance. So I will call the first person. The first person I see is Sri Ravi. Yes. Can you hear me? Yes, Sri. Please go ahead. You have one minute. Thank you. I just wanted to say that I'm requesting all the people in the room to please raise your hand if you don't know on the caste ordinance because it disproportionately impacts Indian children in the U.S. and leads to harassment, assault, and discrimination on a community that's a victim of centuries of horrendous colonial atrocities. It is recorded that the British actually introduced caste as a part of the divide and rule policy, and when they asked for the caste, they said it was the British who introduced it. And this is all documented by the British themselves. Excuse me. And it's also noted that Solomon and Hickel looked at a 40-year period during colonialism, and they found that 165 million Indians perished during this period. So, anyway, please consider the socioeconomic problems that are created by colonialism and don't take it personally. Thank you. Thank you. The next speaker is Sri C. And you will be followed by Dimitri Potemkin. Hi. This is Sri. Can you all hear me? Yes. Hi. I'd like to express my serious concerns regarding the caste discrimination ordinance that's being introduced by Council Member Kshama Sawant. The premise for introducing this ordinance we have been hearing are anecdotal evidence. For instance, a quality lab study that was quoted in support of this ordinance has been severely debunked by Carnegie Endowment Research. It said that the survey is not based on a representative sample and raised serious concerns about questions about the generalizability of its findings. Along similar lines, one of the key findings of the Pew Research is that people of lower caste do not think they face discrimination based on caste. So I sincerely request all the Council Members to vote no on this proposed ordinance. Thank you. Thank you. The next speaker is Dimitri Potemkin followed by Pita Prasad. Good morning. I wanted to say that with this caste ordinance, the Seattle City Council is writing lawsuits just like with what happened with Cal State in their lawsuit. Professor Sunil Kumar and Praveen Sinha claim that Cal State's new caste discrimination policy, quote, seeks to define the Hindu religion as including caste and an alleged oppressive and discriminatory caste system as foundational religious tenets and that it singles out students and staff who are Indian and Hindu. Kumar and Sinha don't identify as being members of any caste and they said they fear that their caste identity will be lost to them under the policy. Both professors were born in India and are followers of Hinduism. I will add that my Indian wife's family never had caste identity in their community. She has no caste. This Council ought to refrain from meddling in lives and histories and cultures that it doesn't understand. Thank you. Thank you. The next speaker is Pita Prasad. Followed by Ashwin Arab. Hi. Can you hear me? Yes. Okay. So I'm calling to really ask our Council members to vote no on the caste ordinance. You have already been contacted by several Dalit and Bahujan folks, the ones you are claiming to protect and represent, and all of those Dalit Bahujan folks have urged you to not fall for this racist trope. They do not need representation from the likes of Equality Labs, which is an open hate group dedicated to demolishing Hinduism. That is their right. Seattle should not mainstream such hate and such racist trope. As previous scholars have said, those opposing it are not for discrimination, but they want to warn you not to set up a commission or a law that would start to discriminate against yet another minority. Most bad people start with very good intentions. So while most of you are acting with good intentions, please be aware of the ramifications of what you are doing. Thank you. Vote no. The next speaker is Ashwin Arab. Hi. My name is Ashwin, and I'm calling in to urge the Seattle City Council to vote no on the caste ordinance.\n",
      "\n",
      "\n",
      "\n",
      "--------------------------------------------------------------------------------\n",
      "\n",
      "Tokens Used: 2768\n",
      "\tPrompt Tokens: 2528\n",
      "\tCompletion Tokens: 240\n",
      "Successful Requests: 1\n",
      "Total Cost (USD): $0.09024\n"
     ]
    }
   ],
   "source": [
    "seg = _process_transcript(seattle_df, 5)"
   ]
  },
  {
   "cell_type": "code",
   "execution_count": 5,
   "id": "6b6221ab-aa31-4fa4-a1b9-66b2c1732d28",
   "metadata": {},
   "outputs": [
    {
     "name": "stdout",
     "output_type": "stream",
     "text": [
      "SECTION LABEL: SectionLabel.roll_call\n",
      "FIRST SENTENCE: 'The February 14, 2023 meeting of the Public Safety and Human Services Committee will come to order.'\n",
      "LAST SENTENCE: 'Five present.'\n",
      "SECTION FULL CONTENT: The February 14, 2023 meeting of the Public Safety and Human Services Committee will come to order. It is 9.35 a.m. I'm Lisa Herbold, chair of the committee. Would the clerk please call the roll. Councilmember Mosqueda. Present. Councilmember Nelson. Present. Councilmember Pedersen. Present. Vice Chair Lewis. Present. Chair Herbold. Here. Five present.\n",
      "\n",
      "\n",
      "SECTION LABEL: SectionLabel.meeting_administration\n",
      "FIRST SENTENCE: 'Thank you so much.'\n",
      "LAST SENTENCE: 'Seeing and hearing no objection, the agenda is adopted.'\n",
      "SECTION FULL CONTENT: Thank you so much. So just a quick rundown on today's agenda. We have two items on the agenda after public comment. The first is a presentation on the Seattle Police Department 2022 Crime Report released last week. And the second is a presentation on all of the upcoming 2023 Human Services Department Notice of Funding Availability. So those are just the opportunities to fund services to the community arising from the major lines of business of the Human Services Department. So with that, we will now approve our agenda for our committee meeting. If there is no objection, our committee agenda will be adopted. Seeing and hearing no objection, the agenda is adopted.\n",
      "\n",
      "\n",
      "SECTION LABEL: SectionLabel.public_comment\n",
      "FIRST SENTENCE: 'At this time, we're going to move into public comment.'\n",
      "LAST SENTENCE: 'This is Jacqueline Siska.'\n",
      "SECTION FULL CONTENT: At this time, we're going to move into public comment. I'll moderate the public comment in the following manner. Each speaker has two minutes to speak. I'll alternate between virtual and in-person public commenters. I'll call on each speaker by name and in order in which they registered on the Council's website in a sign-in form. If you have not yet registered to speak but would like to, you can sign up before the end of the public comment session. Once I call a speaker's name, if you are using the virtual option, you'll hear a prompt. And once you've heard that prompt, please press star 6 to unmute yourself. Please begin speaking by stating your name and the item on the agenda which you are addressing. Speakers will hear a chime when 10 seconds are left of the allotted time. And once the speaker hears the chime, we ask that you begin to wrap up your public comments. If speakers do not end their comments at the end of the allotted time provided, the speaker's mic will be muted after 10 seconds to allow us to hear from the next speaker. Once you've completed your public comment, we ask that you please disconnect from the line. And we encourage you, if you want to continue following the meeting, to do so via the Seattle Channel or the listening options that are listed on the agenda. We've got 11 people signed up for public comment this morning. Nine of those individuals are going to be testifying virtually and two in person. And I'm going to start with the two in-person folks. So I'm going to call names two at a time. And we'll start with Marguerite Richard. And Marguerite Richard will be followed by Azhené Smith. Good morning, everyone. Is the mic on now? Well, anyway, testing 1, 2, 3, 1, 2, 3. And I've already lost some seconds asking me whether or not it was on or off. Thank you. If you mind restarting the clock. Okay. So you have crime on there. And I think the chief is supposed to make a report. He's not in this building right now, per se. I put Tyree Nichols on there because he is an indigenous black male that was gunned down. And I feel like if it affects one like that, it affects us all. That's how I jumped in on crime. I don't understand why we're always the focal point of things like that. Even in this city, with all the years that I have spoken out about issues surrounding our protection. I'll just give you a little scenario about yesterday. I was here to get some information. I went to the fourth floor, the third floor and the sixth floor. Some minions came out on the sixth floor. And then on the fourth floor, a guard came and stretched his neck out. I was like, what's he doing up here? He said, well, they have some boxes that need to be delivered. But to me, it looks suspicious. Like, okay, I'm here. I'm not doing nothing except for I'm on business. And is it your business when I'm here on business? Okay. We're here to eradicate all this stuff that will create a crime and hostility in our community. And that's what it does. We're not supposed to be intimidated. The Bible said, I will fear no evil, but thou art with me. I don't know what happened the day where he was getting the beat down. But it's all over the nation as to what they do to us at any, any given day, like they say, given Sunday, whatever day it is, they use to intimidate us and create hostility in our community. Thank you, Mr. Shard. Our next speaker is Azhané Smith. And I apologize if I mispronounced your name. And the speaker will be followed by Jocelyn Siska. Yeah, my name is Azhané Smith. I'm going to speak on crime. And I'm also going to speak on the, I guess, human services funding, I guess around that part. Crime, I feel like there's a lot of crime where I grew up from, which is the south end of Seattle, also in the central district of Seattle, and also downtown Seattle. I also feel like there should be more funding for, like my aunt says, indigenous black people or black people in the city of Seattle. So we don't have to reach or feel like violence is the only key or participating or selling drugs in our community is our only gatekeep to succeed in society. I also want to say, I would rather you rehabilitate and ask the people who are on drugs and ask the people who are homeless, what they need, and come to it at a therapeutic standpoint, instead of, I guess, pushing them to the side like you don't care about them. Because what I feel like is the city of the Seattle does not care about its people at all, whether they're on drugs, and whether they are in the lower class. So I'm asking people who have the power to fund that to do your job. Thank you. Thank you. Our next speaker is Jacqueline Siskoff, followed by Shavinis Gudlav Violetti. Jacqueline, or Jocelyn? Siska? Hello. This is Jacqueline Siska.\n",
      "\n",
      "\n",
      "SECTION LABEL: SectionLabel.presentation_report_or_general_update\n",
      "FIRST SENTENCE: 'So just a quick rundown on today's agenda.'\n",
      "LAST SENTENCE: 'So those are just the opportunities to fund services to the community arising from the major lines of business of the Human Services Department.'\n",
      "SECTION FULL CONTENT: So just a quick rundown on today's agenda. We have two items on the agenda after public comment. The first is a presentation on the Seattle Police Department 2022 Crime Report released last week. And the second is a presentation on all of the upcoming 2023 Human Services Department Notice of Funding Availability. So those are just the opportunities to fund services to the community arising from the major lines of business of the Human Services Department.\n",
      "\n",
      "\n",
      "\n",
      "--------------------------------------------------------------------------------\n",
      "\n",
      "Tokens Used: 2790\n",
      "\tPrompt Tokens: 2575\n",
      "\tCompletion Tokens: 215\n",
      "Successful Requests: 1\n",
      "Total Cost (USD): $0.09015\n"
     ]
    }
   ],
   "source": [
    "seg = _process_transcript(seattle_df, 7)"
   ]
  },
  {
   "cell_type": "code",
   "execution_count": null,
   "id": "bfa239ef-72b8-45e8-ba0e-0579e89505e5",
   "metadata": {},
   "outputs": [],
   "source": []
  }
 ],
 "metadata": {
  "kernelspec": {
   "display_name": "Python 3 (ipykernel)",
   "language": "python",
   "name": "python3"
  },
  "language_info": {
   "codemirror_mode": {
    "name": "ipython",
    "version": 3
   },
   "file_extension": ".py",
   "mimetype": "text/x-python",
   "name": "python",
   "nbconvert_exporter": "python",
   "pygments_lexer": "ipython3",
   "version": "3.11.4"
  }
 },
 "nbformat": 4,
 "nbformat_minor": 5
}
