{
 "cells": [
  {
   "cell_type": "code",
   "execution_count": 1,
   "id": "4d3ed3f9-5bf2-4857-ac93-196da0d2fd7b",
   "metadata": {
    "tags": []
   },
   "outputs": [
    {
     "name": "stderr",
     "output_type": "stream",
     "text": [
      "/home/eva/miniforge-pypy3/envs/minutes-item-seg/lib/python3.11/site-packages/tqdm/auto.py:21: TqdmWarning: IProgress not found. Please update jupyter and ipywidgets. See https://ipywidgets.readthedocs.io/en/stable/user_install.html\n",
      "  from .autonotebook import tqdm as notebook_tqdm\n"
     ]
    },
    {
     "name": "stdout",
     "output_type": "stream",
     "text": [
      "Working on council: cdp-seattle-21723dcf\n"
     ]
    },
    {
     "name": "stderr",
     "output_type": "stream",
     "text": [
      "Fetching each model attached to event_ref: 100%|██████████| 10/10 [00:00<00:00, 93.71it/s]\n",
      "Fetching transcripts: 100%|██████████| 10/10 [00:00<00:00, 17.98it/s]\n",
      "Converting transcripts: 100%|██████████| 10/10 [00:01<00:00,  5.03it/s]\n"
     ]
    },
    {
     "name": "stdout",
     "output_type": "stream",
     "text": [
      "Working on council: cdp-oakland-ba81c097\n"
     ]
    },
    {
     "name": "stderr",
     "output_type": "stream",
     "text": [
      "Fetching each model attached to event_ref: 100%|██████████| 10/10 [00:00<00:00, 29.99it/s]\n",
      "Fetching transcripts: 100%|██████████| 10/10 [00:01<00:00,  8.60it/s]\n",
      "Converting transcripts: 100%|██████████| 10/10 [00:02<00:00,  4.01it/s]\n"
     ]
    },
    {
     "name": "stdout",
     "output_type": "stream",
     "text": [
      "Working on council: cdp-asheville-ektqmrjs\n"
     ]
    },
    {
     "name": "stderr",
     "output_type": "stream",
     "text": [
      "Fetching each model attached to event_ref: 100%|██████████| 10/10 [00:00<00:00, 26.07it/s]\n",
      "Fetching transcripts: 100%|██████████| 10/10 [00:01<00:00,  8.75it/s]\n",
      "Converting transcripts: 100%|██████████| 10/10 [00:02<00:00,  4.15it/s]\n"
     ]
    },
    {
     "name": "stdout",
     "output_type": "stream",
     "text": [
      "Working on council: cdp-boston-c384047b\n"
     ]
    },
    {
     "name": "stderr",
     "output_type": "stream",
     "text": [
      "Fetching each model attached to event_ref: 100%|██████████| 10/10 [00:00<00:00, 29.89it/s]\n",
      "Fetching transcripts: 100%|██████████| 10/10 [00:00<00:00, 10.23it/s]\n",
      "Converting transcripts: 100%|██████████| 10/10 [00:02<00:00,  3.70it/s]\n"
     ]
    },
    {
     "name": "stdout",
     "output_type": "stream",
     "text": [
      "Working on council: cdp-milwaukee-9f60e352\n"
     ]
    },
    {
     "name": "stderr",
     "output_type": "stream",
     "text": [
      "Fetching each model attached to event_ref: 100%|██████████| 10/10 [00:00<00:00, 97.58it/s]\n",
      "Fetching transcripts: 100%|██████████| 10/10 [00:00<00:00, 12.51it/s]\n",
      "Converting transcripts: 100%|██████████| 10/10 [00:03<00:00,  3.27it/s]\n"
     ]
    }
   ],
   "source": [
    "from functools import partial\n",
    "\n",
    "from cdp_data import CDPInstances, datasets\n",
    "import pandas as pd\n",
    "\n",
    "# How to open and convert each transcript\n",
    "def _process_session(row: pd.Series, extra_meta: dict) -> dict:\n",
    "    # Read transcript CSV\n",
    "    transcript = pd.read_csv(row.transcript_as_csv_path)\n",
    "    \n",
    "    return {\n",
    "        \"text\": \" \".join(transcript.text.astype(str)),\n",
    "        \"meta\": {\n",
    "            \"event_id\": row.event.id,\n",
    "            \"session_id\": row.id,\n",
    "            **extra_meta,\n",
    "        },\n",
    "    }\n",
    "\n",
    "# Get sessions\n",
    "all_sessions = []\n",
    "for city in [\n",
    "    CDPInstances.Seattle,\n",
    "    CDPInstances.Oakland,\n",
    "    CDPInstances.Asheville,\n",
    "    CDPInstances.Boston,\n",
    "    CDPInstances.Milwaukee,\n",
    "]:\n",
    "    print(f\"Working on council: {city}\")\n",
    "    # Get all sessions for city\n",
    "    df = datasets.get_session_dataset(\n",
    "        city,\n",
    "        start_datetime=\"2020-01-01\",\n",
    "        end_datetime=\"2023-09-01\",\n",
    "        sample=10,\n",
    "        store_transcript=True,\n",
    "        store_transcript_as_csv=True,\n",
    "        raise_on_error=False,\n",
    "    )\n",
    "\n",
    "    # Create partial with muni name\n",
    "    process_session = partial(_process_session, extra_meta={\"infrastructure\": city})\n",
    "\n",
    "    # Process all rows in dataset to get full text to a single column\n",
    "    all_sessions.extend(\n",
    "        list(df.apply(process_session, axis=1))\n",
    "    )\n",
    "\n",
    "# Store to single dataframe\n",
    "processed_sessions = pd.DataFrame(all_sessions)\n",
    "\n",
    "# Store processed dataset to JSONL\n",
    "processed_sessions.to_json(\"public-comment-seg-multi-city.jsonl\", orient=\"records\", lines=True)"
   ]
  }
 ],
 "metadata": {
  "kernelspec": {
   "display_name": "Python 3 (ipykernel)",
   "language": "python",
   "name": "python3"
  },
  "language_info": {
   "codemirror_mode": {
    "name": "ipython",
    "version": 3
   },
   "file_extension": ".py",
   "mimetype": "text/x-python",
   "name": "python",
   "nbconvert_exporter": "python",
   "pygments_lexer": "ipython3",
   "version": "3.11.4"
  }
 },
 "nbformat": 4,
 "nbformat_minor": 5
}
