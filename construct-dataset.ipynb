{
 "cells": [
  {
   "cell_type": "code",
   "execution_count": 18,
   "id": "4d3ed3f9-5bf2-4857-ac93-196da0d2fd7b",
   "metadata": {
    "tags": []
   },
   "outputs": [
    {
     "name": "stderr",
     "output_type": "stream",
     "text": [
      "Fetching each model attached to event_ref: 100%|██████████| 2/2 [00:00<00:00,  5.98it/s]\n",
      "Fetching transcripts: 100%|██████████| 2/2 [00:00<00:00,  4.20it/s]\n",
      "Converting transcripts: 100%|██████████| 2/2 [00:00<00:00,  3.01it/s]\n"
     ]
    },
    {
     "data": {
      "text/html": [
       "<div>\n",
       "<style scoped>\n",
       "    .dataframe tbody tr th:only-of-type {\n",
       "        vertical-align: middle;\n",
       "    }\n",
       "\n",
       "    .dataframe tbody tr th {\n",
       "        vertical-align: top;\n",
       "    }\n",
       "\n",
       "    .dataframe thead th {\n",
       "        text-align: right;\n",
       "    }\n",
       "</style>\n",
       "<table border=\"1\" class=\"dataframe\">\n",
       "  <thead>\n",
       "    <tr style=\"text-align: right;\">\n",
       "      <th></th>\n",
       "      <th>session_datetime</th>\n",
       "      <th>session_index</th>\n",
       "      <th>session_content_hash</th>\n",
       "      <th>video_uri</th>\n",
       "      <th>video_start_time</th>\n",
       "      <th>video_end_time</th>\n",
       "      <th>caption_uri</th>\n",
       "      <th>external_source_id</th>\n",
       "      <th>id</th>\n",
       "      <th>key</th>\n",
       "      <th>event</th>\n",
       "      <th>transcript</th>\n",
       "      <th>transcript_path</th>\n",
       "      <th>transcript_as_csv_path</th>\n",
       "    </tr>\n",
       "  </thead>\n",
       "  <tbody>\n",
       "    <tr>\n",
       "      <th>0</th>\n",
       "      <td>2023-02-01 17:30:00+00:00</td>\n",
       "      <td>0</td>\n",
       "      <td>34a045e7b62ee6a78a40138d0530e92aebd46b741bf7e4...</td>\n",
       "      <td>https://video.seattle.gov/media/council/fin_02...</td>\n",
       "      <td>None</td>\n",
       "      <td>None</td>\n",
       "      <td>https://www.seattlechannel.org/documents/seatt...</td>\n",
       "      <td>None</td>\n",
       "      <td>80cf639b6644</td>\n",
       "      <td>session/80cf639b6644</td>\n",
       "      <td>&lt;cdp_backend.database.models.Event object at 0...</td>\n",
       "      <td>&lt;cdp_backend.database.models.Transcript object...</td>\n",
       "      <td>/Users/shakragoler/VS_Code/cdp/minutes-item-se...</td>\n",
       "      <td>/Users/shakragoler/VS_Code/cdp/minutes-item-se...</td>\n",
       "    </tr>\n",
       "    <tr>\n",
       "      <th>1</th>\n",
       "      <td>2023-02-06 22:00:00+00:00</td>\n",
       "      <td>0</td>\n",
       "      <td>90a971243f7ffba7aa29a6ddba812b19de0bdb3aba2859...</td>\n",
       "      <td>https://video.seattle.gov/media/council/brief_...</td>\n",
       "      <td>None</td>\n",
       "      <td>None</td>\n",
       "      <td>https://www.seattlechannel.org/documents/seatt...</td>\n",
       "      <td>None</td>\n",
       "      <td>2f8bd5a37370</td>\n",
       "      <td>session/2f8bd5a37370</td>\n",
       "      <td>&lt;cdp_backend.database.models.Event object at 0...</td>\n",
       "      <td>&lt;cdp_backend.database.models.Transcript object...</td>\n",
       "      <td>/Users/shakragoler/VS_Code/cdp/minutes-item-se...</td>\n",
       "      <td>/Users/shakragoler/VS_Code/cdp/minutes-item-se...</td>\n",
       "    </tr>\n",
       "  </tbody>\n",
       "</table>\n",
       "</div>"
      ],
      "text/plain": [
       "           session_datetime  session_index  \\\n",
       "0 2023-02-01 17:30:00+00:00              0   \n",
       "1 2023-02-06 22:00:00+00:00              0   \n",
       "\n",
       "                                session_content_hash  \\\n",
       "0  34a045e7b62ee6a78a40138d0530e92aebd46b741bf7e4...   \n",
       "1  90a971243f7ffba7aa29a6ddba812b19de0bdb3aba2859...   \n",
       "\n",
       "                                           video_uri video_start_time  \\\n",
       "0  https://video.seattle.gov/media/council/fin_02...             None   \n",
       "1  https://video.seattle.gov/media/council/brief_...             None   \n",
       "\n",
       "  video_end_time                                        caption_uri  \\\n",
       "0           None  https://www.seattlechannel.org/documents/seatt...   \n",
       "1           None  https://www.seattlechannel.org/documents/seatt...   \n",
       "\n",
       "  external_source_id            id                   key  \\\n",
       "0               None  80cf639b6644  session/80cf639b6644   \n",
       "1               None  2f8bd5a37370  session/2f8bd5a37370   \n",
       "\n",
       "                                               event  \\\n",
       "0  <cdp_backend.database.models.Event object at 0...   \n",
       "1  <cdp_backend.database.models.Event object at 0...   \n",
       "\n",
       "                                          transcript  \\\n",
       "0  <cdp_backend.database.models.Transcript object...   \n",
       "1  <cdp_backend.database.models.Transcript object...   \n",
       "\n",
       "                                     transcript_path  \\\n",
       "0  /Users/shakragoler/VS_Code/cdp/minutes-item-se...   \n",
       "1  /Users/shakragoler/VS_Code/cdp/minutes-item-se...   \n",
       "\n",
       "                              transcript_as_csv_path  \n",
       "0  /Users/shakragoler/VS_Code/cdp/minutes-item-se...  \n",
       "1  /Users/shakragoler/VS_Code/cdp/minutes-item-se...  "
      ]
     },
     "execution_count": 18,
     "metadata": {},
     "output_type": "execute_result"
    }
   ],
   "source": [
    "from cdp_data import CDPInstances, datasets\n",
    "\n",
    "seattle_df = datasets.get_session_dataset(\n",
    "    CDPInstances.Seattle,\n",
    "    start_datetime=\"2023-02-01\",\n",
    "    end_datetime=\"2023-02-07\",\n",
    "    store_transcript=True,\n",
    "    store_transcript_as_csv=True,\n",
    ")\n",
    "seattle_df.sample(2)"
   ]
  },
  {
   "cell_type": "code",
   "execution_count": 23,
   "id": "78c36c6e-192c-4df0-a17b-851d4dfde1c1",
   "metadata": {
    "tags": []
   },
   "outputs": [
    {
     "data": {
      "text/html": [
       "<div>\n",
       "<style scoped>\n",
       "    .dataframe tbody tr th:only-of-type {\n",
       "        vertical-align: middle;\n",
       "    }\n",
       "\n",
       "    .dataframe tbody tr th {\n",
       "        vertical-align: top;\n",
       "    }\n",
       "\n",
       "    .dataframe thead th {\n",
       "        text-align: right;\n",
       "    }\n",
       "</style>\n",
       "<table border=\"1\" class=\"dataframe\">\n",
       "  <thead>\n",
       "    <tr style=\"text-align: right;\">\n",
       "      <th></th>\n",
       "      <th>text</th>\n",
       "      <th>meta</th>\n",
       "    </tr>\n",
       "  </thead>\n",
       "  <tbody>\n",
       "    <tr>\n",
       "      <th>1</th>\n",
       "      <td>≫ Good afternoon, everybody. Today is Monday, ...</td>\n",
       "      <td>{'event_id': '5929a705b6aa', 'session_id': '2f...</td>\n",
       "    </tr>\n",
       "  </tbody>\n",
       "</table>\n",
       "</div>"
      ],
      "text/plain": [
       "                                                text  \\\n",
       "1  ≫ Good afternoon, everybody. Today is Monday, ...   \n",
       "\n",
       "                                                meta  \n",
       "1  {'event_id': '5929a705b6aa', 'session_id': '2f...  "
      ]
     },
     "execution_count": 23,
     "metadata": {},
     "output_type": "execute_result"
    }
   ],
   "source": [
    "from functools import partial\n",
    "import pandas as pd\n",
    "\n",
    "def _process_session(row: pd.Series, extra_meta: dict) -> dict:\n",
    "    # Read transcript CSV\n",
    "    transcript = pd.read_csv(row.transcript_as_csv_path)\n",
    "    \n",
    "    return {\n",
    "        \"text\": \" \".join(transcript.text),\n",
    "        \"meta\": {\n",
    "            \"event_id\": row.event.id,\n",
    "            \"session_id\": row.id,\n",
    "            **extra_meta,\n",
    "        },\n",
    "    }\n",
    "\n",
    "# Create partial with muni name\n",
    "process_session_seattle = partial(_process_session, extra_meta={\"muni\": \"seattle\"})\n",
    "\n",
    "# Process all rows in dataset to get full text to a single column\n",
    "processed_sessions = pd.DataFrame(\n",
    "    list(seattle_df.apply(process_session_seattle, axis=1)), \n",
    ")\n",
    "processed_sessions.sample(1)"
   ]
  },
  {
   "cell_type": "code",
   "execution_count": 24,
   "id": "1906e71b-7301-49d0-9790-29c67dd048cb",
   "metadata": {
    "tags": []
   },
   "outputs": [],
   "source": [
    "# Store processed dataset to JSONL\n",
    "processed_sessions.to_json(\"seattle.jsonl\", orient=\"records\", lines=True)"
   ]
  },
  {
   "cell_type": "code",
   "execution_count": null,
   "id": "7c6b12b7-f28b-427c-a0cf-74f8e478d42a",
   "metadata": {},
   "outputs": [],
   "source": []
  }
 ],
 "metadata": {
  "kernelspec": {
   "display_name": "Python 3 (ipykernel)",
   "language": "python",
   "name": "python3"
  },
  "language_info": {
   "codemirror_mode": {
    "name": "ipython",
    "version": 3
   },
   "file_extension": ".py",
   "mimetype": "text/x-python",
   "name": "python",
   "nbconvert_exporter": "python",
   "pygments_lexer": "ipython3",
   "version": "3.10.12"
  }
 },
 "nbformat": 4,
 "nbformat_minor": 5
}
