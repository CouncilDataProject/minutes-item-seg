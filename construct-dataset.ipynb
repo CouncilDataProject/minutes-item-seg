{
 "cells": [
  {
   "cell_type": "code",
   "execution_count": 1,
   "id": "4d3ed3f9-5bf2-4857-ac93-196da0d2fd7b",
   "metadata": {
    "tags": []
   },
   "outputs": [
    {
     "data": {
      "application/vnd.jupyter.widget-view+json": {
       "model_id": "8a00d51189784d268c67e9b95bc24e58",
       "version_major": 2,
       "version_minor": 0
      },
      "text/plain": [
       "Fetching each model attached to event_ref:   0%|          | 0/32 [00:00<?, ?it/s]"
      ]
     },
     "metadata": {},
     "output_type": "display_data"
    },
    {
     "data": {
      "application/vnd.jupyter.widget-view+json": {
       "model_id": "313be7dae8214c54b63632d8d4cef856",
       "version_major": 2,
       "version_minor": 0
      },
      "text/plain": [
       "Fetching transcripts:   0%|          | 0/32 [00:00<?, ?it/s]"
      ]
     },
     "metadata": {},
     "output_type": "display_data"
    },
    {
     "data": {
      "application/vnd.jupyter.widget-view+json": {
       "model_id": "213e1d73e2ae4a248f614d4c222304da",
       "version_major": 2,
       "version_minor": 0
      },
      "text/plain": [
       "Converting transcripts:   0%|          | 0/32 [00:00<?, ?it/s]"
      ]
     },
     "metadata": {},
     "output_type": "display_data"
    },
    {
     "data": {
      "text/html": [
       "<div>\n",
       "<style scoped>\n",
       "    .dataframe tbody tr th:only-of-type {\n",
       "        vertical-align: middle;\n",
       "    }\n",
       "\n",
       "    .dataframe tbody tr th {\n",
       "        vertical-align: top;\n",
       "    }\n",
       "\n",
       "    .dataframe thead th {\n",
       "        text-align: right;\n",
       "    }\n",
       "</style>\n",
       "<table border=\"1\" class=\"dataframe\">\n",
       "  <thead>\n",
       "    <tr style=\"text-align: right;\">\n",
       "      <th></th>\n",
       "      <th>session_datetime</th>\n",
       "      <th>session_index</th>\n",
       "      <th>session_content_hash</th>\n",
       "      <th>video_uri</th>\n",
       "      <th>video_start_time</th>\n",
       "      <th>video_end_time</th>\n",
       "      <th>caption_uri</th>\n",
       "      <th>external_source_id</th>\n",
       "      <th>id</th>\n",
       "      <th>key</th>\n",
       "      <th>event</th>\n",
       "      <th>transcript</th>\n",
       "      <th>transcript_path</th>\n",
       "      <th>transcript_as_csv_path</th>\n",
       "    </tr>\n",
       "  </thead>\n",
       "  <tbody>\n",
       "    <tr>\n",
       "      <th>20</th>\n",
       "      <td>2023-03-28 16:30:00+00:00</td>\n",
       "      <td>0</td>\n",
       "      <td>9d39534c4aff2d6950e7a279a4f91217fe6419547200d0...</td>\n",
       "      <td>https://video.seattle.gov/media/council/safe_0...</td>\n",
       "      <td>None</td>\n",
       "      <td>None</td>\n",
       "      <td>https://www.seattlechannel.org/documents/seatt...</td>\n",
       "      <td>None</td>\n",
       "      <td>cf402ba17c19</td>\n",
       "      <td>session/cf402ba17c19</td>\n",
       "      <td>&lt;cdp_backend.database.models.Event object at 0...</td>\n",
       "      <td>&lt;cdp_backend.database.models.Transcript object...</td>\n",
       "      <td>/home/eva/active/cdp/minutes-item-seg/cdp-data...</td>\n",
       "      <td>/home/eva/active/cdp/minutes-item-seg/cdp-data...</td>\n",
       "    </tr>\n",
       "    <tr>\n",
       "      <th>25</th>\n",
       "      <td>2023-04-12 16:30:00+00:00</td>\n",
       "      <td>0</td>\n",
       "      <td>527dffa11193464222d35dc7949005c3475c0c09b4e006...</td>\n",
       "      <td>https://video.seattle.gov/media/council/econ_0...</td>\n",
       "      <td>None</td>\n",
       "      <td>None</td>\n",
       "      <td>https://www.seattlechannel.org/documents/seatt...</td>\n",
       "      <td>None</td>\n",
       "      <td>c460a8868bbf</td>\n",
       "      <td>session/c460a8868bbf</td>\n",
       "      <td>&lt;cdp_backend.database.models.Event object at 0...</td>\n",
       "      <td>&lt;cdp_backend.database.models.Transcript object...</td>\n",
       "      <td>/home/eva/active/cdp/minutes-item-seg/cdp-data...</td>\n",
       "      <td>/home/eva/active/cdp/minutes-item-seg/cdp-data...</td>\n",
       "    </tr>\n",
       "    <tr>\n",
       "      <th>1</th>\n",
       "      <td>2023-02-06 22:00:00+00:00</td>\n",
       "      <td>0</td>\n",
       "      <td>90a971243f7ffba7aa29a6ddba812b19de0bdb3aba2859...</td>\n",
       "      <td>https://video.seattle.gov/media/council/brief_...</td>\n",
       "      <td>None</td>\n",
       "      <td>None</td>\n",
       "      <td>https://www.seattlechannel.org/documents/seatt...</td>\n",
       "      <td>None</td>\n",
       "      <td>2f8bd5a37370</td>\n",
       "      <td>session/2f8bd5a37370</td>\n",
       "      <td>&lt;cdp_backend.database.models.Event object at 0...</td>\n",
       "      <td>&lt;cdp_backend.database.models.Transcript object...</td>\n",
       "      <td>/home/eva/active/cdp/minutes-item-seg/cdp-data...</td>\n",
       "      <td>/home/eva/active/cdp/minutes-item-seg/cdp-data...</td>\n",
       "    </tr>\n",
       "  </tbody>\n",
       "</table>\n",
       "</div>"
      ],
      "text/plain": [
       "            session_datetime  session_index  \\\n",
       "20 2023-03-28 16:30:00+00:00              0   \n",
       "25 2023-04-12 16:30:00+00:00              0   \n",
       "1  2023-02-06 22:00:00+00:00              0   \n",
       "\n",
       "                                 session_content_hash  \\\n",
       "20  9d39534c4aff2d6950e7a279a4f91217fe6419547200d0...   \n",
       "25  527dffa11193464222d35dc7949005c3475c0c09b4e006...   \n",
       "1   90a971243f7ffba7aa29a6ddba812b19de0bdb3aba2859...   \n",
       "\n",
       "                                            video_uri video_start_time  \\\n",
       "20  https://video.seattle.gov/media/council/safe_0...             None   \n",
       "25  https://video.seattle.gov/media/council/econ_0...             None   \n",
       "1   https://video.seattle.gov/media/council/brief_...             None   \n",
       "\n",
       "   video_end_time                                        caption_uri  \\\n",
       "20           None  https://www.seattlechannel.org/documents/seatt...   \n",
       "25           None  https://www.seattlechannel.org/documents/seatt...   \n",
       "1            None  https://www.seattlechannel.org/documents/seatt...   \n",
       "\n",
       "   external_source_id            id                   key  \\\n",
       "20               None  cf402ba17c19  session/cf402ba17c19   \n",
       "25               None  c460a8868bbf  session/c460a8868bbf   \n",
       "1                None  2f8bd5a37370  session/2f8bd5a37370   \n",
       "\n",
       "                                                event  \\\n",
       "20  <cdp_backend.database.models.Event object at 0...   \n",
       "25  <cdp_backend.database.models.Event object at 0...   \n",
       "1   <cdp_backend.database.models.Event object at 0...   \n",
       "\n",
       "                                           transcript  \\\n",
       "20  <cdp_backend.database.models.Transcript object...   \n",
       "25  <cdp_backend.database.models.Transcript object...   \n",
       "1   <cdp_backend.database.models.Transcript object...   \n",
       "\n",
       "                                      transcript_path  \\\n",
       "20  /home/eva/active/cdp/minutes-item-seg/cdp-data...   \n",
       "25  /home/eva/active/cdp/minutes-item-seg/cdp-data...   \n",
       "1   /home/eva/active/cdp/minutes-item-seg/cdp-data...   \n",
       "\n",
       "                               transcript_as_csv_path  \n",
       "20  /home/eva/active/cdp/minutes-item-seg/cdp-data...  \n",
       "25  /home/eva/active/cdp/minutes-item-seg/cdp-data...  \n",
       "1   /home/eva/active/cdp/minutes-item-seg/cdp-data...  "
      ]
     },
     "execution_count": 1,
     "metadata": {},
     "output_type": "execute_result"
    }
   ],
   "source": [
    "from cdp_data import CDPInstances, datasets\n",
    "\n",
    "seattle_df = datasets.get_session_dataset(\n",
    "    CDPInstances.Seattle,\n",
    "    start_datetime=\"2023-01-01\",\n",
    "    end_datetime=\"2023-05-01\",\n",
    "    store_transcript=True,\n",
    "    store_transcript_as_csv=True,\n",
    ")\n",
    "seattle_df.sample(3)"
   ]
  },
  {
   "cell_type": "code",
   "execution_count": 2,
   "id": "78c36c6e-192c-4df0-a17b-851d4dfde1c1",
   "metadata": {
    "tags": []
   },
   "outputs": [
    {
     "data": {
      "text/html": [
       "<div>\n",
       "<style scoped>\n",
       "    .dataframe tbody tr th:only-of-type {\n",
       "        vertical-align: middle;\n",
       "    }\n",
       "\n",
       "    .dataframe tbody tr th {\n",
       "        vertical-align: top;\n",
       "    }\n",
       "\n",
       "    .dataframe thead th {\n",
       "        text-align: right;\n",
       "    }\n",
       "</style>\n",
       "<table border=\"1\" class=\"dataframe\">\n",
       "  <thead>\n",
       "    <tr style=\"text-align: right;\">\n",
       "      <th></th>\n",
       "      <th>text</th>\n",
       "      <th>meta</th>\n",
       "    </tr>\n",
       "  </thead>\n",
       "  <tbody>\n",
       "    <tr>\n",
       "      <th>9</th>\n",
       "      <td>Thank you, Madam Clerk. Thank you, son. Good m...</td>\n",
       "      <td>{'event_id': '292bd698ea59', 'session_id': 'd1...</td>\n",
       "    </tr>\n",
       "  </tbody>\n",
       "</table>\n",
       "</div>"
      ],
      "text/plain": [
       "                                                text  \\\n",
       "9  Thank you, Madam Clerk. Thank you, son. Good m...   \n",
       "\n",
       "                                                meta  \n",
       "9  {'event_id': '292bd698ea59', 'session_id': 'd1...  "
      ]
     },
     "execution_count": 2,
     "metadata": {},
     "output_type": "execute_result"
    }
   ],
   "source": [
    "from functools import partial\n",
    "import pandas as pd\n",
    "\n",
    "def _process_session(row: pd.Series, extra_meta: dict) -> dict:\n",
    "    # Read transcript CSV\n",
    "    transcript = pd.read_csv(row.transcript_as_csv_path)\n",
    "    \n",
    "    return {\n",
    "        \"text\": \" \".join(transcript.text),\n",
    "        \"meta\": {\n",
    "            \"event_id\": row.event.id,\n",
    "            \"session_id\": row.id,\n",
    "            **extra_meta,\n",
    "        },\n",
    "    }\n",
    "\n",
    "# Create partial with muni name\n",
    "process_session_seattle = partial(_process_session, extra_meta={\"muni\": \"seattle\"})\n",
    "\n",
    "# Process all rows in dataset to get full text to a single column\n",
    "processed_sessions = pd.DataFrame(\n",
    "    list(seattle_df.apply(process_session_seattle, axis=1)), \n",
    ")\n",
    "processed_sessions.sample(1)"
   ]
  },
  {
   "cell_type": "code",
   "execution_count": 3,
   "id": "1906e71b-7301-49d0-9790-29c67dd048cb",
   "metadata": {
    "tags": []
   },
   "outputs": [],
   "source": [
    "# Store processed dataset to JSONL\n",
    "processed_sessions.to_json(\"seattle.jsonl\", orient=\"records\", lines=True)"
   ]
  },
  {
   "cell_type": "code",
   "execution_count": null,
   "id": "7c6b12b7-f28b-427c-a0cf-74f8e478d42a",
   "metadata": {},
   "outputs": [],
   "source": []
  }
 ],
 "metadata": {
  "kernelspec": {
   "display_name": "Python 3 (ipykernel)",
   "language": "python",
   "name": "python3"
  },
  "language_info": {
   "codemirror_mode": {
    "name": "ipython",
    "version": 3
   },
   "file_extension": ".py",
   "mimetype": "text/x-python",
   "name": "python",
   "nbconvert_exporter": "python",
   "pygments_lexer": "ipython3",
   "version": "3.9.16"
  }
 },
 "nbformat": 4,
 "nbformat_minor": 5
}
