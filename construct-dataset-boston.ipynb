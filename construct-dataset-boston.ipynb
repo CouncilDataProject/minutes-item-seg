{
 "cells": [
  {
   "cell_type": "code",
   "execution_count": 41,
   "metadata": {},
   "outputs": [
    {
     "name": "stderr",
     "output_type": "stream",
     "text": [
      "Fetching each model attached to event_ref: 100%|██████████| 1/1 [00:00<00:00,  9.39it/s]\n",
      "Fetching transcripts: 100%|██████████| 1/1 [00:00<00:00,  1.11it/s]\n",
      "Converting transcripts: 100%|██████████| 1/1 [00:00<00:00,  1.15it/s]\n"
     ]
    },
    {
     "data": {
      "text/html": [
       "<div>\n",
       "<style scoped>\n",
       "    .dataframe tbody tr th:only-of-type {\n",
       "        vertical-align: middle;\n",
       "    }\n",
       "\n",
       "    .dataframe tbody tr th {\n",
       "        vertical-align: top;\n",
       "    }\n",
       "\n",
       "    .dataframe thead th {\n",
       "        text-align: right;\n",
       "    }\n",
       "</style>\n",
       "<table border=\"1\" class=\"dataframe\">\n",
       "  <thead>\n",
       "    <tr style=\"text-align: right;\">\n",
       "      <th></th>\n",
       "      <th>session_datetime</th>\n",
       "      <th>session_index</th>\n",
       "      <th>session_content_hash</th>\n",
       "      <th>video_uri</th>\n",
       "      <th>video_start_time</th>\n",
       "      <th>video_end_time</th>\n",
       "      <th>caption_uri</th>\n",
       "      <th>external_source_id</th>\n",
       "      <th>id</th>\n",
       "      <th>key</th>\n",
       "      <th>event</th>\n",
       "      <th>transcript</th>\n",
       "      <th>transcript_path</th>\n",
       "      <th>transcript_as_csv_path</th>\n",
       "    </tr>\n",
       "  </thead>\n",
       "  <tbody>\n",
       "    <tr>\n",
       "      <th>0</th>\n",
       "      <td>2023-01-26 19:00:00+00:00</td>\n",
       "      <td>0</td>\n",
       "      <td>56647e4d969bad6ce521ff23601c5d2bf1703db48761d9...</td>\n",
       "      <td>https://storage.googleapis.com/download/storag...</td>\n",
       "      <td>None</td>\n",
       "      <td>None</td>\n",
       "      <td>http://boston.granicus.com//videos/993/caption...</td>\n",
       "      <td>None</td>\n",
       "      <td>8aefa4d65844</td>\n",
       "      <td>session/8aefa4d65844</td>\n",
       "      <td>&lt;cdp_backend.database.models.Event object at 0...</td>\n",
       "      <td>&lt;cdp_backend.database.models.Transcript object...</td>\n",
       "      <td>/Users/shakragoler/VS_Code/cdp/minutes-item-se...</td>\n",
       "      <td>/Users/shakragoler/VS_Code/cdp/minutes-item-se...</td>\n",
       "    </tr>\n",
       "  </tbody>\n",
       "</table>\n",
       "</div>"
      ],
      "text/plain": [
       "           session_datetime  session_index  \\\n",
       "0 2023-01-26 19:00:00+00:00              0   \n",
       "\n",
       "                                session_content_hash  \\\n",
       "0  56647e4d969bad6ce521ff23601c5d2bf1703db48761d9...   \n",
       "\n",
       "                                           video_uri video_start_time  \\\n",
       "0  https://storage.googleapis.com/download/storag...             None   \n",
       "\n",
       "  video_end_time                                        caption_uri  \\\n",
       "0           None  http://boston.granicus.com//videos/993/caption...   \n",
       "\n",
       "  external_source_id            id                   key  \\\n",
       "0               None  8aefa4d65844  session/8aefa4d65844   \n",
       "\n",
       "                                               event  \\\n",
       "0  <cdp_backend.database.models.Event object at 0...   \n",
       "\n",
       "                                          transcript  \\\n",
       "0  <cdp_backend.database.models.Transcript object...   \n",
       "\n",
       "                                     transcript_path  \\\n",
       "0  /Users/shakragoler/VS_Code/cdp/minutes-item-se...   \n",
       "\n",
       "                              transcript_as_csv_path  \n",
       "0  /Users/shakragoler/VS_Code/cdp/minutes-item-se...  "
      ]
     },
     "execution_count": 41,
     "metadata": {},
     "output_type": "execute_result"
    }
   ],
   "source": [
    "from cdp_data import CDPInstances, datasets\n",
    "\n",
    "boston_df = datasets.get_session_dataset(\n",
    "    CDPInstances.Boston,\n",
    "    start_datetime=\"2023-01-26\",\n",
    "    end_datetime=\"2023-01-27\",\n",
    "    store_transcript=True,\n",
    "    store_transcript_as_csv=True,\n",
    ")\n",
    "boston_df.sample(1)"
   ]
  },
  {
   "cell_type": "code",
   "execution_count": 42,
   "metadata": {},
   "outputs": [
    {
     "data": {
      "text/html": [
       "<div>\n",
       "<style scoped>\n",
       "    .dataframe tbody tr th:only-of-type {\n",
       "        vertical-align: middle;\n",
       "    }\n",
       "\n",
       "    .dataframe tbody tr th {\n",
       "        vertical-align: top;\n",
       "    }\n",
       "\n",
       "    .dataframe thead th {\n",
       "        text-align: right;\n",
       "    }\n",
       "</style>\n",
       "<table border=\"1\" class=\"dataframe\">\n",
       "  <thead>\n",
       "    <tr style=\"text-align: right;\">\n",
       "      <th></th>\n",
       "      <th>text</th>\n",
       "      <th>meta</th>\n",
       "    </tr>\n",
       "  </thead>\n",
       "  <tbody>\n",
       "    <tr>\n",
       "      <th>0</th>\n",
       "      <td>You You You You You You You You You You You Yo...</td>\n",
       "      <td>{'event_id': '1561c0756c10', 'session_id': '8a...</td>\n",
       "    </tr>\n",
       "  </tbody>\n",
       "</table>\n",
       "</div>"
      ],
      "text/plain": [
       "                                                text  \\\n",
       "0  You You You You You You You You You You You Yo...   \n",
       "\n",
       "                                                meta  \n",
       "0  {'event_id': '1561c0756c10', 'session_id': '8a...  "
      ]
     },
     "execution_count": 42,
     "metadata": {},
     "output_type": "execute_result"
    }
   ],
   "source": [
    "from functools import partial\n",
    "import pandas as pd\n",
    "\n",
    "def _process_session(row: pd.Series, extra_meta: dict) -> dict:\n",
    "    # Read transcript CSV\n",
    "    transcript = pd.read_csv(row.transcript_as_csv_path)\n",
    "    \n",
    "    return {\n",
    "        \"text\": \" \".join(transcript.text),\n",
    "        \"meta\": {\n",
    "            \"event_id\": row.event.id,\n",
    "            \"session_id\": row.id,\n",
    "            **extra_meta,\n",
    "        },\n",
    "    }\n",
    "\n",
    "# Create partial with muni name\n",
    "process_session_boston = partial(_process_session, extra_meta={\"muni\": \"boston\"})\n",
    "\n",
    "# Process all rows in dataset to get full text to a single column\n",
    "processed_sessions = pd.DataFrame(\n",
    "    list(boston_df.apply(process_session_boston, axis=1)), \n",
    ")\n",
    "processed_sessions.sample(1)"
   ]
  },
  {
   "cell_type": "code",
   "execution_count": 43,
   "metadata": {},
   "outputs": [],
   "source": [
    "# Store processed dataset to JSONL\n",
    "processed_sessions.to_json(\"boston.jsonl\", orient=\"records\", lines=True)"
   ]
  }
 ],
 "metadata": {
  "kernelspec": {
   "display_name": ".venv",
   "language": "python",
   "name": "python3"
  },
  "language_info": {
   "codemirror_mode": {
    "name": "ipython",
    "version": 3
   },
   "file_extension": ".py",
   "mimetype": "text/x-python",
   "name": "python",
   "nbconvert_exporter": "python",
   "pygments_lexer": "ipython3",
   "version": "3.9.6"
  },
  "orig_nbformat": 4
 },
 "nbformat": 4,
 "nbformat_minor": 2
}
